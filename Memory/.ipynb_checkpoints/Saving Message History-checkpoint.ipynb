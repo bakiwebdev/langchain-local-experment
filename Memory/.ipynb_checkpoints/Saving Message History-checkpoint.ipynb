{
 "cells": [
  {
   "cell_type": "markdown",
   "id": "e023d582",
   "metadata": {},
   "source": [
    "## Save Message History\n",
    "\n",
    "save messages and then load them to use again (like chat gpt)"
   ]
  },
  {
   "cell_type": "code",
   "execution_count": 5,
   "id": "cdff83c3",
   "metadata": {},
   "outputs": [],
   "source": [
    "import json\n",
    "\n",
    "from langchain.memory import ChatMessageHistory\n",
    "from langchain.schema import messages_from_dict,  messages_to_dict  # from dict or to dict\n",
    "\n",
    "history = ChatMessageHistory()\n",
    "\n",
    "history.add_user_message(\"Hi\")\n",
    "history.add_ai_message(\"Hello, How can i help you ?\")"
   ]
  },
  {
   "cell_type": "code",
   "execution_count": 6,
   "id": "1f7b9fac",
   "metadata": {},
   "outputs": [],
   "source": [
    "dicts = messages_to_dict(history.messages) # save messages"
   ]
  },
  {
   "cell_type": "code",
   "execution_count": 7,
   "id": "817b6a90",
   "metadata": {},
   "outputs": [
    {
     "data": {
      "text/plain": [
       "[{'type': 'human',\n",
       "  'data': {'content': 'Hi', 'additional_kwargs': {}, 'example': False}},\n",
       " {'type': 'ai',\n",
       "  'data': {'content': 'Hello, How can i help you ?',\n",
       "   'additional_kwargs': {},\n",
       "   'example': False}}]"
      ]
     },
     "execution_count": 7,
     "metadata": {},
     "output_type": "execute_result"
    }
   ],
   "source": [
    "dicts"
   ]
  },
  {
   "cell_type": "code",
   "execution_count": 8,
   "id": "2be4badd",
   "metadata": {},
   "outputs": [],
   "source": [
    "new_messages = messages_from_dict(dicts) # load messages"
   ]
  },
  {
   "cell_type": "code",
   "execution_count": 9,
   "id": "6d732b89",
   "metadata": {},
   "outputs": [
    {
     "data": {
      "text/plain": [
       "[HumanMessage(content='Hi', additional_kwargs={}, example=False),\n",
       " AIMessage(content='Hello, How can i help you ?', additional_kwargs={}, example=False)]"
      ]
     },
     "execution_count": 9,
     "metadata": {},
     "output_type": "execute_result"
    }
   ],
   "source": [
    "new_messages"
   ]
  }
 ],
 "metadata": {
  "kernelspec": {
   "display_name": "Python 3 (ipykernel)",
   "language": "python",
   "name": "python3"
  },
  "language_info": {
   "codemirror_mode": {
    "name": "ipython",
    "version": 3
   },
   "file_extension": ".py",
   "mimetype": "text/x-python",
   "name": "python",
   "nbconvert_exporter": "python",
   "pygments_lexer": "ipython3",
   "version": "3.10.6"
  }
 },
 "nbformat": 4,
 "nbformat_minor": 5
}
